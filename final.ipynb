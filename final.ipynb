{
  "nbformat": 4,
  "nbformat_minor": 0,
  "metadata": {
    "colab": {
      "provenance": []
    },
    "kernelspec": {
      "name": "python3",
      "display_name": "Python 3"
    },
    "language_info": {
      "name": "python"
    }
  },
  "cells": [
    {
      "cell_type": "code",
      "execution_count": 1,
      "metadata": {
        "id": "FM-LdQZiNCjE",
        "colab": {
          "base_uri": "https://localhost:8080/"
        },
        "outputId": "e243bd90-2eb5-4412-92f4-21497811dc8c"
      },
      "outputs": [
        {
          "output_type": "stream",
          "name": "stdout",
          "text": [
            "--2023-05-28 12:48:43--  https://www.cs.cmu.edu/~./enron/enron_mail_20150507.tar.gz\n",
            "Resolving www.cs.cmu.edu (www.cs.cmu.edu)... 128.2.42.95\n",
            "Connecting to www.cs.cmu.edu (www.cs.cmu.edu)|128.2.42.95|:443... connected.\n",
            "HTTP request sent, awaiting response... 200 OK\n",
            "Length: 443254787 (423M) [application/x-gzip]\n",
            "Saving to: ‘enron_mail_20150507.tar.gz’\n",
            "\n",
            "enron_mail_20150507 100%[===================>] 422.72M   652KB/s    in 17m 13s \n",
            "\n",
            "2023-05-28 13:05:57 (419 KB/s) - ‘enron_mail_20150507.tar.gz’ saved [443254787/443254787]\n",
            "\n"
          ]
        }
      ],
      "source": [
        "#run wget command for downloding enrn email data\n",
        "!wget https://www.cs.cmu.edu/~./enron/enron_mail_20150507.tar.gz\n"
      ]
    },
    {
      "cell_type": "code",
      "source": [
        "#import library sqlite3\n",
        "import sqlite3\n"
      ],
      "metadata": {
        "id": "cGDlh0S1NHZG"
      },
      "execution_count": 2,
      "outputs": []
    },
    {
      "cell_type": "code",
      "source": [
        "#establish connection with database\n",
        "import sqlite3\n",
        "\n",
        "# Establish a connection to the SQLite database file\n",
        "conn = sqlite3.connect('enron_emails.db')\n",
        "\n",
        "# Create a cursor object to interact with the database\n",
        "cursor = conn.cursor()\n",
        "\n"
      ],
      "metadata": {
        "id": "eCcfBklCNKk4"
      },
      "execution_count": 3,
      "outputs": []
    },
    {
      "cell_type": "code",
      "source": [
        "#create cursor object\n",
        "import sqlite3\n",
        "\n",
        "# Establish a connection to the SQLite database file\n",
        "conn = sqlite3.connect('enron_emails.db')\n",
        "\n",
        "# Create a cursor object to interact with the database\n",
        "cursor = conn.cursor()\n"
      ],
      "metadata": {
        "id": "e5rj2HzcNMzn"
      },
      "execution_count": 4,
      "outputs": []
    },
    {
      "cell_type": "code",
      "source": [
        "#check schema of database\n",
        "import sqlite3\n",
        "\n",
        "# Establish a connection to the SQLite database file\n",
        "conn = sqlite3.connect('enron_emails.db')\n",
        "\n",
        "# Create a cursor object to interact with the database\n",
        "cursor = conn.cursor()\n",
        "\n",
        "# Retrieve the schema of the database\n",
        "cursor.execute(\"SELECT name FROM sqlite_master WHERE type='table';\")\n",
        "tables = cursor.fetchall()\n",
        "\n",
        "# Print the table names and their respective schema\n",
        "for table in tables:\n",
        "    table_name = table[0]\n",
        "    print(f\"Table: {table_name}\")\n",
        "    cursor.execute(f\"PRAGMA table_info({table_name});\")\n",
        "    columns = cursor.fetchall()\n",
        "    for column in columns:\n",
        "        column_name = column[1]\n",
        "        data_type = column[2]\n",
        "        print(f\"- {column_name}: {data_type}\")\n",
        "    print()\n"
      ],
      "metadata": {
        "id": "V6qs1PekNO2m"
      },
      "execution_count": 5,
      "outputs": []
    },
    {
      "cell_type": "code",
      "source": [
        "#check scheme of table - employeelist\n",
        "import sqlite3\n",
        "\n",
        "# Establish a connection to the SQLite database file\n",
        "conn = sqlite3.connect('enron_emails.db')\n",
        "\n",
        "# Create a cursor object to interact with the database\n",
        "cursor = conn.cursor()\n",
        "\n",
        "# Retrieve the schema of the \"employeelist\" table\n",
        "cursor.execute(\"PRAGMA table_info(employeelist);\")\n",
        "columns = cursor.fetchall()\n",
        "\n",
        "# Print the column names and their respective data types\n",
        "print(\"Schema of employeelist table:\")\n",
        "for column in columns:\n",
        "    column_name = column[1]\n",
        "    data_type = column[2]\n",
        "    print(f\"- {column_name}: {data_type}\")\n",
        "\n",
        "# Close the database connection\n",
        "conn.close()\n"
      ],
      "metadata": {
        "id": "05G60OdkNSf6",
        "colab": {
          "base_uri": "https://localhost:8080/"
        },
        "outputId": "2acdfb10-24bb-42f6-e9fe-2a33acb99d89"
      },
      "execution_count": 6,
      "outputs": [
        {
          "output_type": "stream",
          "name": "stdout",
          "text": [
            "Schema of employeelist table:\n"
          ]
        }
      ]
    },
    {
      "cell_type": "code",
      "source": [
        "#check schema of table - message\n",
        "import sqlite3\n",
        "\n",
        "# Establish a connection to the SQLite database file\n",
        "conn = sqlite3.connect('enron_emails.db')\n",
        "\n",
        "# Create a cursor object to interact with the database\n",
        "cursor = conn.cursor()\n",
        "\n",
        "# Retrieve the schema of the \"message\" table\n",
        "cursor.execute(\"PRAGMA table_info(message);\")\n",
        "columns = cursor.fetchall()\n",
        "\n",
        "# Print the column names and their respective data types\n",
        "print(\"Schema of message table:\")\n",
        "for column in columns:\n",
        "    column_name = column[1]\n",
        "    data_type = column[2]\n",
        "    print(f\"- {column_name}: {data_type}\")\n",
        "\n",
        "# Close the database connection\n",
        "conn.close()\n"
      ],
      "metadata": {
        "id": "WBfJH0RsNWZk",
        "colab": {
          "base_uri": "https://localhost:8080/"
        },
        "outputId": "20e4f920-c653-4460-e52c-3ff70afa0687"
      },
      "execution_count": 7,
      "outputs": [
        {
          "output_type": "stream",
          "name": "stdout",
          "text": [
            "Schema of message table:\n"
          ]
        }
      ]
    },
    {
      "cell_type": "code",
      "source": [
        "#check scheme of table - referenceinfo\n",
        "import sqlite3\n",
        "\n",
        "# Establish a connection to the SQLite database file\n",
        "conn = sqlite3.connect('enron_emails.db')\n",
        "\n",
        "# Create a cursor object to interact with the database\n",
        "cursor = conn.cursor()\n",
        "\n",
        "# Retrieve the schema of the \"referenceinfo\" table\n",
        "cursor.execute(\"PRAGMA table_info(referenceinfo);\")\n",
        "columns = cursor.fetchall()\n",
        "\n",
        "# Print the column names and their respective data types\n",
        "print(\"Schema of referenceinfo table:\")\n",
        "for column in columns:\n",
        "    column_name = column[1]\n",
        "    data_type = column[2]\n",
        "    print(f\"- {column_name}: {data_type}\")\n",
        "\n",
        "# Close the database connection\n",
        "conn.close()\n"
      ],
      "metadata": {
        "id": "0-hvlm2hNYzV",
        "colab": {
          "base_uri": "https://localhost:8080/"
        },
        "outputId": "05e3357d-d152-44b0-c217-6426f7794bfd"
      },
      "execution_count": 8,
      "outputs": [
        {
          "output_type": "stream",
          "name": "stdout",
          "text": [
            "Schema of referenceinfo table:\n"
          ]
        }
      ]
    },
    {
      "cell_type": "code",
      "source": [
        "import sqlite3\n",
        "\n",
        "# Establish a connection to the SQLite database file\n",
        "conn = sqlite3.connect('enron_emails.db')\n",
        "\n",
        "# Create a cursor object to interact with the database\n",
        "cursor = conn.cursor()\n",
        "\n",
        "# Retrieve the schema of the \"recipientinfo\" table\n",
        "cursor.execute(\"PRAGMA table_info(recipientinfo);\")\n",
        "columns = cursor.fetchall()\n",
        "\n",
        "# Print the column names and their respective data types\n",
        "print(\"Schema of recipientinfo table:\")\n",
        "for column in columns:\n",
        "    column_name = column[1]\n",
        "    data_type = column[2]\n",
        "    print(f\"- {column_name}: {data_type}\")\n",
        "\n",
        "# Close the database connection\n",
        "\n"
      ],
      "metadata": {
        "id": "b9aNKA-RNbMR",
        "colab": {
          "base_uri": "https://localhost:8080/"
        },
        "outputId": "a77c8fc7-d2d8-4d54-bb21-5cf64f7fd21e"
      },
      "execution_count": 12,
      "outputs": [
        {
          "output_type": "stream",
          "name": "stdout",
          "text": [
            "Schema of recipientinfo table:\n"
          ]
        }
      ]
    },
    {
      "cell_type": "code",
      "source": [
        "#import library - pandas\n",
        "import pandas as pd\n"
      ],
      "metadata": {
        "id": "Je_gaanLNgpq"
      },
      "execution_count": 11,
      "outputs": []
    },
    {
      "cell_type": "code",
      "source": [
        "#check date format by writing an sql query to fetch one record from message table\n",
        "import sqlite3\n",
        "\n",
        "# Establish a connection to the SQLite database file\n",
        "conn = sqlite3.connect('enron_emails.db')\n",
        "\n",
        "# Create a cursor object to interact with the database\n",
        "cursor = conn.cursor()\n",
        "\n",
        "# Fetch one record from the Message table\n",
        "cursor.execute(\"SELECT * FROM Message LIMIT 1;\")\n",
        "record = cursor.fetchone()\n",
        "\n",
        "# Print the record to check the date format\n",
        "print(record)\n",
        "\n",
        "# Close the database connection\n",
        "conn.close()\n"
      ],
      "metadata": {
        "id": "hjyowUMGNgyv",
        "colab": {
          "base_uri": "https://localhost:8080/",
          "height": 244
        },
        "outputId": "3b5935cb-525d-4d5d-cea6-39766effacc8"
      },
      "execution_count": 15,
      "outputs": [
        {
          "output_type": "error",
          "ename": "OperationalError",
          "evalue": "ignored",
          "traceback": [
            "\u001b[0;31m---------------------------------------------------------------------------\u001b[0m",
            "\u001b[0;31mOperationalError\u001b[0m                          Traceback (most recent call last)",
            "\u001b[0;32m<ipython-input-15-2e5d1fde04c6>\u001b[0m in \u001b[0;36m<cell line: 11>\u001b[0;34m()\u001b[0m\n\u001b[1;32m      9\u001b[0m \u001b[0;34m\u001b[0m\u001b[0m\n\u001b[1;32m     10\u001b[0m \u001b[0;31m# Fetch one record from the Message table\u001b[0m\u001b[0;34m\u001b[0m\u001b[0;34m\u001b[0m\u001b[0m\n\u001b[0;32m---> 11\u001b[0;31m \u001b[0mcursor\u001b[0m\u001b[0;34m.\u001b[0m\u001b[0mexecute\u001b[0m\u001b[0;34m(\u001b[0m\u001b[0;34m\"SELECT * FROM Message LIMIT 1;\"\u001b[0m\u001b[0;34m)\u001b[0m\u001b[0;34m\u001b[0m\u001b[0;34m\u001b[0m\u001b[0m\n\u001b[0m\u001b[1;32m     12\u001b[0m \u001b[0mrecord\u001b[0m \u001b[0;34m=\u001b[0m \u001b[0mcursor\u001b[0m\u001b[0;34m.\u001b[0m\u001b[0mfetchone\u001b[0m\u001b[0;34m(\u001b[0m\u001b[0;34m)\u001b[0m\u001b[0;34m\u001b[0m\u001b[0;34m\u001b[0m\u001b[0m\n\u001b[1;32m     13\u001b[0m \u001b[0;34m\u001b[0m\u001b[0m\n",
            "\u001b[0;31mOperationalError\u001b[0m: no such table: Message"
          ]
        }
      ]
    },
    {
      "cell_type": "code",
      "source": [
        "# Fetch the table names from the database\n",
        "cursor.execute(\"SELECT name FROM sqlite_master WHERE type='table';\")\n",
        "tables = cursor.fetchall()\n",
        "\n",
        "# Print the table names\n",
        "for table in tables:\n",
        "    print(table[0])\n"
      ],
      "metadata": {
        "id": "p--FNY5JhVYW"
      },
      "execution_count": 14,
      "outputs": []
    },
    {
      "cell_type": "code",
      "source": [
        "#check whether there are null values in the record\n",
        "import sqlite3\n",
        "\n",
        "# Establish a connection to the SQLite database file\n",
        "conn = sqlite3.connect('enron_emails.db')\n",
        "\n",
        "# Create a cursor object to interact with the database\n",
        "cursor = conn.cursor()\n",
        "\n",
        "# Fetch one record from the Message table\n",
        "cursor.execute(\"SELECT * FROM Message LIMIT 1;\")\n",
        "record = cursor.fetchone()\n",
        "\n",
        "# Check for null values in the record\n",
        "has_null_values = any(value is None for value in record)\n",
        "\n",
        "# Print the result\n",
        "if has_null_values:\n",
        "    print(\"The record contains null values.\")\n",
        "else:\n",
        "    print(\"The record does not contain null values.\")\n",
        "\n",
        "# Close the database connection\n",
        "conn.close()\n"
      ],
      "metadata": {
        "id": "_EAIOKq0Ng1A",
        "colab": {
          "base_uri": "https://localhost:8080/",
          "height": 244
        },
        "outputId": "117129fe-6f94-4cbc-c147-3f36eff346ce"
      },
      "execution_count": 16,
      "outputs": [
        {
          "output_type": "error",
          "ename": "OperationalError",
          "evalue": "ignored",
          "traceback": [
            "\u001b[0;31m---------------------------------------------------------------------------\u001b[0m",
            "\u001b[0;31mOperationalError\u001b[0m                          Traceback (most recent call last)",
            "\u001b[0;32m<ipython-input-16-b5096596479a>\u001b[0m in \u001b[0;36m<cell line: 11>\u001b[0;34m()\u001b[0m\n\u001b[1;32m      9\u001b[0m \u001b[0;34m\u001b[0m\u001b[0m\n\u001b[1;32m     10\u001b[0m \u001b[0;31m# Fetch one record from the Message table\u001b[0m\u001b[0;34m\u001b[0m\u001b[0;34m\u001b[0m\u001b[0m\n\u001b[0;32m---> 11\u001b[0;31m \u001b[0mcursor\u001b[0m\u001b[0;34m.\u001b[0m\u001b[0mexecute\u001b[0m\u001b[0;34m(\u001b[0m\u001b[0;34m\"SELECT * FROM Message LIMIT 1;\"\u001b[0m\u001b[0;34m)\u001b[0m\u001b[0;34m\u001b[0m\u001b[0;34m\u001b[0m\u001b[0m\n\u001b[0m\u001b[1;32m     12\u001b[0m \u001b[0mrecord\u001b[0m \u001b[0;34m=\u001b[0m \u001b[0mcursor\u001b[0m\u001b[0;34m.\u001b[0m\u001b[0mfetchone\u001b[0m\u001b[0;34m(\u001b[0m\u001b[0;34m)\u001b[0m\u001b[0;34m\u001b[0m\u001b[0;34m\u001b[0m\u001b[0m\n\u001b[1;32m     13\u001b[0m \u001b[0;34m\u001b[0m\u001b[0m\n",
            "\u001b[0;31mOperationalError\u001b[0m: no such table: Message"
          ]
        }
      ]
    },
    {
      "cell_type": "code",
      "source": [
        "#write sql query to count number of emails per day using strftime and COUNT() \n",
        "#convert data in dataframe\n",
        "#display the dataframe\n",
        "#import library matplotlib and seaborn\n",
        "#plot graph\n",
        "#perform analysis \n",
        "import sqlite3\n",
        "import pandas as pd\n",
        "import matplotlib.pyplot as plt\n",
        "import seaborn as sns\n",
        "\n",
        "# Establish a connection to the SQLite database file\n",
        "conn = sqlite3.connect('enron_emails.db')\n",
        "\n",
        "# Create a cursor object to interact with the database\n",
        "cursor = conn.cursor()\n",
        "\n",
        "# Write SQL query to count number of emails per day\n",
        "sql_query = \"\"\"\n",
        "SELECT strftime('%Y-%m-%d', date) AS day, COUNT(*) AS email_count\n",
        "FROM Message\n",
        "GROUP BY day\n",
        "ORDER BY day;\n",
        "\"\"\"\n",
        "\n",
        "# Execute the SQL query and fetch the results into a DataFrame\n",
        "df = pd.read_sql_query(sql_query, conn)\n",
        "\n",
        "# Display the DataFrame\n",
        "print(df)\n",
        "\n",
        "# Plot the graph\n",
        "sns.set(style=\"darkgrid\")\n",
        "plt.figure(figsize=(12, 6))\n",
        "plt.plot(df['day'], df['email_count'], marker='o')\n",
        "plt.xticks(rotation=45)\n",
        "plt.xlabel('Day')\n",
        "plt.ylabel('Email Count')\n",
        "plt.title('Number of Emails per Day')\n",
        "plt.show()\n",
        "\n",
        "# Perform analysis on the data\n",
        "# You can perform further analysis on the 'df' DataFrame to gain insights into email patterns per day.\n",
        "# For example, you can calculate the average, maximum, or minimum number of emails per day, or identify any notable spikes or trends in the data.\n",
        "\n",
        "# Close the database connection\n",
        "conn.close()\n",
        "\n"
      ],
      "metadata": {
        "id": "_Wpp2RxKNg3M"
      },
      "execution_count": null,
      "outputs": []
    },
    {
      "cell_type": "code",
      "source": [
        "#write sql query to count number of emails per week using strftime and COUNT() \n",
        "#convert data in dataframe\n",
        "#display the dataframe\n",
        "#plot graph\n",
        "#perform analysis \n",
        "import sqlite3\n",
        "import pandas as pd\n",
        "import matplotlib.pyplot as plt\n",
        "import seaborn as sns\n",
        "\n",
        "# Establish a connection to the SQLite database file\n",
        "conn = sqlite3.connect('enron_emails.db')\n",
        "\n",
        "# Create a cursor object to interact with the database\n",
        "cursor = conn.cursor()\n",
        "\n",
        "# Write SQL query to count number of emails per week\n",
        "sql_query = \"\"\"\n",
        "SELECT strftime('%Y-%W', date) AS week, COUNT(*) AS email_count\n",
        "FROM Message\n",
        "GROUP BY week\n",
        "ORDER BY week;\n",
        "\"\"\"\n",
        "\n",
        "# Execute the SQL query and fetch the results into a DataFrame\n",
        "df = pd.read_sql_query(sql_query, conn)\n",
        "\n",
        "# Display the DataFrame\n",
        "print(df)\n",
        "\n",
        "# Plot the graph\n",
        "sns.set(style=\"darkgrid\")\n",
        "plt.figure(figsize=(12, 6))\n",
        "plt.plot(df['week'], df['email_count'], marker='o')\n",
        "plt.xticks(rotation=45)\n",
        "plt.xlabel('Week')\n",
        "plt.ylabel('Email Count')\n",
        "plt.title('Number of Emails per Week')\n",
        "plt.show()\n",
        "\n",
        "# Perform analysis on the data\n",
        "# You can perform further analysis on the 'df' DataFrame to gain insights into email patterns per week.\n",
        "# For example, you can calculate the average, maximum, or minimum number of emails per week, or identify any notable spikes or trends in the data.\n",
        "\n",
        "# Close the database connection\n",
        "conn.close()\n"
      ],
      "metadata": {
        "id": "-i9_lx3lNg5y"
      },
      "execution_count": null,
      "outputs": []
    },
    {
      "cell_type": "code",
      "source": [
        "#write sql query to count number of emails per month using strftime and COUNT() \n",
        "#convert data in dataframe\n",
        "#display the dataframe\n",
        "#plot graph using subplots() and lineplot()\n",
        "#perform analysis \n",
        "import sqlite3\n",
        "import pandas as pd\n",
        "import matplotlib.pyplot as plt\n",
        "import seaborn as sns\n",
        "\n",
        "# Establish a connection to the SQLite database file\n",
        "conn = sqlite3.connect('enron_emails.db')\n",
        "\n",
        "# Create a cursor object to interact with the database\n",
        "cursor = conn.cursor()\n",
        "\n",
        "# Write SQL query to count number of emails per month\n",
        "sql_query = \"\"\"\n",
        "SELECT strftime('%Y-%m', date) AS month, COUNT(*) AS email_count\n",
        "FROM Message\n",
        "GROUP BY month\n",
        "ORDER BY month;\n",
        "\"\"\"\n",
        "\n",
        "# Execute the SQL query and fetch the results into a DataFrame\n",
        "df = pd.read_sql_query(sql_query, conn)\n",
        "\n",
        "# Display the DataFrame\n",
        "print(df)\n",
        "\n",
        "# Plot the graph\n",
        "sns.set(style=\"darkgrid\")\n",
        "fig, ax = plt.subplots(figsize=(12, 6))\n",
        "sns.lineplot(x='month', y='email_count', data=df, marker='o', ax=ax)\n",
        "ax.set_xticklabels(df['month'], rotation=45)\n",
        "ax.set_xlabel('Month')\n",
        "ax.set_ylabel('Email Count')\n",
        "ax.set_title('Number of Emails per Month')\n",
        "\n",
        "# Perform analysis on the data\n",
        "# You can perform further analysis on the 'df' DataFrame to gain insights into email patterns per month.\n",
        "# For example, you can calculate the average, maximum, or minimum number of emails per month, or identify any notable spikes or trends in the data.\n",
        "\n",
        "# Close the database connection\n",
        "conn.close()\n"
      ],
      "metadata": {
        "id": "YhkcPYWdNg8G"
      },
      "execution_count": null,
      "outputs": []
    },
    {
      "cell_type": "code",
      "source": [
        "#write sql query to count top sender using count()\n",
        "#convert data in dataframe\n",
        "#display the dataframe\n",
        "#plot graph using barplot() and show()\n",
        "#perform analysis \n",
        "import sqlite3\n",
        "import pandas as pd\n",
        "import matplotlib.pyplot as plt\n",
        "import seaborn as sns\n",
        "\n",
        "# Establish a connection to the SQLite database file\n",
        "conn = sqlite3.connect('enron_emails.db')\n",
        "\n",
        "# Create a cursor object to interact with the database\n",
        "cursor = conn.cursor()\n",
        "\n",
        "# Write SQL query to count the number of emails sent by each sender\n",
        "sql_query = \"\"\"\n",
        "SELECT sender, COUNT(*) AS email_count\n",
        "FROM Message\n",
        "GROUP BY sender\n",
        "ORDER BY email_count DESC\n",
        "LIMIT 10;\n",
        "\"\"\"\n",
        "\n",
        "# Execute the SQL query and fetch the results into a DataFrame\n",
        "df = pd.read_sql_query(sql_query, conn)\n",
        "\n",
        "# Display the DataFrame\n",
        "print(df)\n",
        "\n",
        "# Plot the graph\n",
        "sns.set(style=\"darkgrid\")\n",
        "fig, ax = plt.subplots(figsize=(12, 6))\n",
        "sns.barplot(x='email_count', y='sender', data=df, ax=ax)\n",
        "ax.set_xlabel('Number of Emails')\n",
        "ax.set_ylabel('Sender')\n",
        "ax.set_title('Top 10 Email Senders')\n",
        "\n",
        "# Perform analysis on the data\n",
        "# You can perform further analysis on the 'df' DataFrame to gain insights into the top senders.\n",
        "# For example, you can calculate the percentage of emails sent by each sender, or compare the email counts of the top senders with the overall email distribution.\n",
        "\n",
        "# Close the database connection\n",
        "conn.close()\n"
      ],
      "metadata": {
        "id": "kHxvkzwDNg-f"
      },
      "execution_count": null,
      "outputs": []
    },
    {
      "cell_type": "code",
      "source": [
        "#write sql query to count top recipient using count()\n",
        "#convert data in dataframe\n",
        "#display the dataframe\n",
        "#plot graph using barplot() and show()\n",
        "#perform analysis \n",
        "import sqlite3\n",
        "import pandas as pd\n",
        "import matplotlib.pyplot as plt\n",
        "import seaborn as sns\n",
        "\n",
        "# Establish a connection to the SQLite database file\n",
        "conn = sqlite3.connect('enron_emails.db')\n",
        "\n",
        "# Create a cursor object to interact with the database\n",
        "cursor = conn.cursor()\n",
        "\n",
        "# Write SQL query to count the number of emails received by each recipient\n",
        "sql_query = \"\"\"\n",
        "SELECT rvalue AS recipient, COUNT(*) AS email_count\n",
        "FROM Recipientinfo\n",
        "WHERE rtype = 'to' -- Consider only emails sent directly to recipients\n",
        "GROUP BY recipient\n",
        "ORDER BY email_count DESC\n",
        "LIMIT 10;\n",
        "\"\"\"\n",
        "\n",
        "# Execute the SQL query and fetch the results into a DataFrame\n",
        "df = pd.read_sql_query(sql_query, conn)\n",
        "\n",
        "# Display the DataFrame\n",
        "print(df)\n",
        "\n",
        "# Plot the graph\n",
        "sns.set(style=\"darkgrid\")\n",
        "fig, ax = plt.subplots(figsize=(12, 6))\n",
        "sns.barplot(x='email_count', y='recipient', data=df, ax=ax)\n",
        "ax.set_xlabel('Number of Emails')\n",
        "ax.set_ylabel('Recipient')\n",
        "ax.set_title('Top 10 Email Recipients')\n",
        "\n",
        "# Perform analysis on the data\n",
        "# You can perform further analysis on the 'df' DataFrame to gain insights into the top recipients.\n",
        "# For example, you can calculate the percentage of emails received by each recipient, or compare the email counts of the top recipients with the overall email distribution.\n",
        "\n",
        "# Close the database connection\n",
        "conn.close()\n"
      ],
      "metadata": {
        "id": "-zho5x61NhBS"
      },
      "execution_count": null,
      "outputs": []
    },
    {
      "cell_type": "code",
      "source": [
        "#write sql query to categorize by rtype using count\n",
        "#convert data in dataframe\n",
        "#display the dataframe\n",
        "#plot graph using pie() and show()\n",
        "#perform analysis \n",
        "import sqlite3\n",
        "import pandas as pd\n",
        "import matplotlib.pyplot as plt\n",
        "\n",
        "# Establish a connection to the SQLite database file\n",
        "conn = sqlite3.connect('enron_emails.db')\n",
        "\n",
        "# Create a cursor object to interact with the database\n",
        "cursor = conn.cursor()\n",
        "\n",
        "# Write SQL query to count the number of emails for each recipient type (rtype)\n",
        "sql_query = \"\"\"\n",
        "SELECT rtype, COUNT(*) AS email_count\n",
        "FROM Recipientinfo\n",
        "GROUP BY rtype;\n",
        "\"\"\"\n",
        "\n",
        "# Execute the SQL query and fetch the results into a DataFrame\n",
        "df = pd.read_sql_query(sql_query, conn)\n",
        "\n",
        "# Display the DataFrame\n",
        "print(df)\n",
        "\n",
        "# Plot the graph\n",
        "fig, ax = plt.subplots(figsize=(6, 6))\n",
        "ax.pie(df['email_count'], labels=df['rtype'], autopct='%1.1f%%', startangle=90)\n",
        "ax.set_title('Email Distribution by Recipient Type')\n",
        "\n",
        "# Perform analysis on the data\n",
        "# You can perform further analysis on the 'df' DataFrame to gain insights into the email distribution by recipient type.\n",
        "# For example, you can compare the proportions of emails sent to each recipient type, or analyze the trends in email distribution over time for different recipient types.\n",
        "\n",
        "# Close the database connection\n",
        "conn.close()\n"
      ],
      "metadata": {
        "id": "9N602CkMNhD0"
      },
      "execution_count": null,
      "outputs": []
    },
    {
      "cell_type": "code",
      "source": [],
      "metadata": {
        "id": "LGxH1UF_NhF_"
      },
      "execution_count": null,
      "outputs": []
    },
    {
      "cell_type": "code",
      "source": [],
      "metadata": {
        "id": "nkW_hiE4NhJ5"
      },
      "execution_count": null,
      "outputs": []
    },
    {
      "cell_type": "code",
      "source": [],
      "metadata": {
        "id": "NFXxQgT2NhNU"
      },
      "execution_count": null,
      "outputs": []
    }
  ]
}